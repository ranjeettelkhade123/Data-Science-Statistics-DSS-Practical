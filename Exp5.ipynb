{
 "cells": [
  {
   "cell_type": "markdown",
   "id": "607a6c5b-1437-4a50-80f2-a401e92dc633",
   "metadata": {},
   "source": [
    "# Creation of Array (1D,2D and Multidimennsional array)"
   ]
  },
  {
   "cell_type": "code",
   "execution_count": 2,
   "id": "cf134e0d-15b9-4988-9570-f172ff3848b1",
   "metadata": {},
   "outputs": [],
   "source": [
    "#Exp no. : 5"
   ]
  },
  {
   "cell_type": "code",
   "execution_count": 3,
   "id": "2a8f26a9-9308-451a-9f9e-cf583cf8b157",
   "metadata": {},
   "outputs": [],
   "source": [
    "#Aim : Creation of Array (1D,2D and Multidimennsional array) using numpy"
   ]
  },
  {
   "cell_type": "code",
   "execution_count": 4,
   "id": "8caced71-1edf-4519-b175-decdf52d81df",
   "metadata": {},
   "outputs": [],
   "source": [
    "#Name : Ranjeet V. Telkhade\n",
    "#Roll no. : 56 (DS-B52)\n",
    "#Section : B \n",
    "#Subject : PE-I\n",
    "#Date : 03-08-2024"
   ]
  },
  {
   "cell_type": "code",
   "execution_count": 5,
   "id": "2153c04b-e968-4250-b9e6-defcd25cf4d0",
   "metadata": {},
   "outputs": [],
   "source": [
    "import numpy as np"
   ]
  },
  {
   "cell_type": "code",
   "execution_count": 6,
   "id": "d62f4ffb-95ab-430e-bbd7-6a43a580360a",
   "metadata": {},
   "outputs": [],
   "source": [
    "arr1=np.array([10,20,30,40,50])"
   ]
  },
  {
   "cell_type": "code",
   "execution_count": 7,
   "id": "29111f73-2c7f-41d6-a31a-1dd57816db5c",
   "metadata": {},
   "outputs": [
    {
     "data": {
      "text/plain": [
       "array([10, 20, 30, 40, 50])"
      ]
     },
     "execution_count": 7,
     "metadata": {},
     "output_type": "execute_result"
    }
   ],
   "source": [
    "arr1"
   ]
  },
  {
   "cell_type": "code",
   "execution_count": 8,
   "id": "f61bfef8-f38e-4f94-aedf-a18976fb7c53",
   "metadata": {},
   "outputs": [],
   "source": [
    "arr2=np.array([[10,20,30,40,50],[60,70,80,90,100]])"
   ]
  },
  {
   "cell_type": "code",
   "execution_count": 9,
   "id": "70a3ac93-c9bd-41d9-8409-453e0d5dbd53",
   "metadata": {},
   "outputs": [
    {
     "data": {
      "text/plain": [
       "array([[ 10,  20,  30,  40,  50],\n",
       "       [ 60,  70,  80,  90, 100]])"
      ]
     },
     "execution_count": 9,
     "metadata": {},
     "output_type": "execute_result"
    }
   ],
   "source": [
    "arr2"
   ]
  },
  {
   "cell_type": "code",
   "execution_count": 10,
   "id": "447d878f-c7a4-4748-8350-2f2abd0e6470",
   "metadata": {},
   "outputs": [],
   "source": [
    "arr3=np.array([[10,20,30,40,50],[60,70,80,90,100],[15,25,35,45,55]])"
   ]
  },
  {
   "cell_type": "code",
   "execution_count": 11,
   "id": "194379a2-a922-42eb-b989-e7ee00454d38",
   "metadata": {},
   "outputs": [
    {
     "data": {
      "text/plain": [
       "array([[ 10,  20,  30,  40,  50],\n",
       "       [ 60,  70,  80,  90, 100],\n",
       "       [ 15,  25,  35,  45,  55]])"
      ]
     },
     "execution_count": 11,
     "metadata": {},
     "output_type": "execute_result"
    }
   ],
   "source": [
    "arr3"
   ]
  },
  {
   "cell_type": "code",
   "execution_count": null,
   "id": "3b54263b-6f53-4399-bdee-e788053e6a40",
   "metadata": {},
   "outputs": [],
   "source": []
  }
 ],
 "metadata": {
  "kernelspec": {
   "display_name": "Python 3 (ipykernel)",
   "language": "python",
   "name": "python3"
  },
  "language_info": {
   "codemirror_mode": {
    "name": "ipython",
    "version": 3
   },
   "file_extension": ".py",
   "mimetype": "text/x-python",
   "name": "python",
   "nbconvert_exporter": "python",
   "pygments_lexer": "ipython3",
   "version": "3.12.4"
  }
 },
 "nbformat": 4,
 "nbformat_minor": 5
}
