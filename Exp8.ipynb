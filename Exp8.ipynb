{
 "cells": [
  {
   "cell_type": "markdown",
   "id": "e69ca954-69c3-4a99-a8ec-565edb20689b",
   "metadata": {},
   "source": [
    "#  Central Tendancy of measures (Mean, Median, Mode)"
   ]
  },
  {
   "cell_type": "code",
   "execution_count": 2,
   "id": "e94631cd-3451-4d4e-ace6-cb7b145331b1",
   "metadata": {},
   "outputs": [],
   "source": [
    "#Exp no. : 8"
   ]
  },
  {
   "cell_type": "code",
   "execution_count": 3,
   "id": "3da1aca2-1436-49bc-90a2-e9dffa65120f",
   "metadata": {},
   "outputs": [],
   "source": [
    "#Aim : To find Central Tendancy of measures (Mean, Median, Mode)"
   ]
  },
  {
   "cell_type": "code",
   "execution_count": 4,
   "id": "27e98723-347e-4677-ae8a-6b7c3b8302fa",
   "metadata": {},
   "outputs": [],
   "source": [
    "#Name : Ranjeet V. Telkhade\n",
    "#Roll no. : 56 (DS-B52)\n",
    "#Section : B \n",
    "#Subject : PE-I\n",
    "#Date : 09-09-2024"
   ]
  },
  {
   "cell_type": "code",
   "execution_count": 5,
   "id": "fbff8877-674d-4f9f-b2f9-4a63f1f5e178",
   "metadata": {},
   "outputs": [],
   "source": [
    "age=[21,22,25,23,24,26,25,25,28,29,27,29,26,24,23,23,23,21,23]"
   ]
  },
  {
   "cell_type": "code",
   "execution_count": 6,
   "id": "a82274fd-e7fe-4fbe-b862-00e0287342ad",
   "metadata": {},
   "outputs": [
    {
     "data": {
      "text/plain": [
       "[21, 22, 25, 23, 24, 26, 25, 25, 28, 29, 27, 29, 26, 24, 23, 23, 23, 21, 23]"
      ]
     },
     "execution_count": 6,
     "metadata": {},
     "output_type": "execute_result"
    }
   ],
   "source": [
    "age"
   ]
  },
  {
   "cell_type": "code",
   "execution_count": 7,
   "id": "11340e8d-b5a3-4b7e-9703-a929ee9e8fac",
   "metadata": {},
   "outputs": [],
   "source": [
    "import statistics"
   ]
  },
  {
   "cell_type": "code",
   "execution_count": 8,
   "id": "887b269f-de43-4d7e-a1e8-51f9fe9f8fc9",
   "metadata": {},
   "outputs": [],
   "source": [
    "Mean=statistics.mean(age)"
   ]
  },
  {
   "cell_type": "code",
   "execution_count": 9,
   "id": "66b8b192-3653-44b3-9558-1cce097fb5da",
   "metadata": {},
   "outputs": [
    {
     "data": {
      "text/plain": [
       "24.57894736842105"
      ]
     },
     "execution_count": 9,
     "metadata": {},
     "output_type": "execute_result"
    }
   ],
   "source": [
    "Mean"
   ]
  },
  {
   "cell_type": "code",
   "execution_count": 10,
   "id": "92b9b6f8-a8ec-4d02-a55a-758b60c5716d",
   "metadata": {},
   "outputs": [],
   "source": [
    "Median=statistics.median(age)"
   ]
  },
  {
   "cell_type": "code",
   "execution_count": 11,
   "id": "645ad43c-b7ae-4683-8fd8-c9e510dd8621",
   "metadata": {},
   "outputs": [
    {
     "data": {
      "text/plain": [
       "24"
      ]
     },
     "execution_count": 11,
     "metadata": {},
     "output_type": "execute_result"
    }
   ],
   "source": [
    "Median"
   ]
  },
  {
   "cell_type": "code",
   "execution_count": 12,
   "id": "8a86f504-3b0c-4ea1-b6c9-e4f9e2a23f07",
   "metadata": {},
   "outputs": [],
   "source": [
    "Mode=statistics.mode(age)"
   ]
  },
  {
   "cell_type": "code",
   "execution_count": 13,
   "id": "eb139cf1-dc25-4330-8e4a-bc335ed2c508",
   "metadata": {},
   "outputs": [
    {
     "data": {
      "text/plain": [
       "23"
      ]
     },
     "execution_count": 13,
     "metadata": {},
     "output_type": "execute_result"
    }
   ],
   "source": [
    "Mode"
   ]
  },
  {
   "cell_type": "code",
   "execution_count": null,
   "id": "3109a8bc-bec8-4fa6-8baa-35f1d140e8b2",
   "metadata": {},
   "outputs": [],
   "source": []
  }
 ],
 "metadata": {
  "kernelspec": {
   "display_name": "Python 3 (ipykernel)",
   "language": "python",
   "name": "python3"
  },
  "language_info": {
   "codemirror_mode": {
    "name": "ipython",
    "version": 3
   },
   "file_extension": ".py",
   "mimetype": "text/x-python",
   "name": "python",
   "nbconvert_exporter": "python",
   "pygments_lexer": "ipython3",
   "version": "3.12.4"
  }
 },
 "nbformat": 4,
 "nbformat_minor": 5
}
